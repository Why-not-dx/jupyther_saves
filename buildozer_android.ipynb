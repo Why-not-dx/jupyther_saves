{
  "nbformat": 4,
  "nbformat_minor": 0,
  "metadata": {
    "colab": {
      "provenance": [],
      "authorship_tag": "ABX9TyNyrVGHTR1qXbIKozNnv2pm",
      "include_colab_link": true
    },
    "kernelspec": {
      "name": "python3",
      "display_name": "Python 3"
    },
    "language_info": {
      "name": "python"
    }
  },
  "cells": [
    {
      "cell_type": "markdown",
      "metadata": {
        "id": "view-in-github",
        "colab_type": "text"
      },
      "source": [
        "<a href=\"https://colab.research.google.com/github/Why-not-dx/Paris_Trees/blob/main/buildozer_android.ipynb\" target=\"_parent\"><img src=\"https://colab.research.google.com/assets/colab-badge.svg\" alt=\"Open In Colab\"/></a>"
      ]
    },
    {
      "cell_type": "code",
      "execution_count": null,
      "metadata": {
        "id": "pTPxueFZ67tL"
      },
      "outputs": [],
      "source": [
        "!pip install buildozer"
      ]
    },
    {
      "cell_type": "code",
      "source": [
        "!pip install cython==0.29.35"
      ],
      "metadata": {
        "id": "zAF9bn3q730p"
      },
      "execution_count": null,
      "outputs": []
    },
    {
      "cell_type": "code",
      "source": [
        "!sudo apt-get install -y \\\n",
        "    python3-pip \\\n",
        "    build-essential \\\n",
        "    git \\\n",
        "    python3 \\\n",
        "    python3-dev \\\n",
        "    ffmpeg \\\n",
        "    libsdl2-dev \\\n",
        "    libsdl2-image-dev \\\n",
        "    libsdl2-mixer-dev \\\n",
        "    libsdl2-ttf-dev \\\n",
        "    libportmidi-dev \\\n",
        "    libswscale-dev \\\n",
        "    libavformat-dev \\\n",
        "    libavcodec-dev \\\n",
        "    zlib1g-dev"
      ],
      "metadata": {
        "id": "mmziyvl978wt"
      },
      "execution_count": null,
      "outputs": []
    },
    {
      "cell_type": "code",
      "source": [
        "!sudo apt-get install -y \\\n",
        "    libgstreamer1.0 \\\n",
        "    gstreamer1.0-plugins-base \\\n",
        "    gstreamer1.0-plugins-good"
      ],
      "metadata": {
        "id": "XIPuhX738Bmm"
      },
      "execution_count": null,
      "outputs": []
    },
    {
      "cell_type": "code",
      "source": [
        "!sudo apt-get install build-essential libsqlite3-dev sqlite3 bzip2 libbz2-dev zlib1g-dev libssl-dev openssl libgdbm-dev libgdbm-compat-dev liblzma-dev libreadline-dev libncursesw5-dev libffi-dev uuid-dev libffi6"
      ],
      "metadata": {
        "id": "Y6KIgSd18CLL"
      },
      "execution_count": null,
      "outputs": []
    },
    {
      "cell_type": "code",
      "source": [
        "!sudo apt-get install libffi-dev\n"
      ],
      "metadata": {
        "id": "GH7ofoWT8COX"
      },
      "execution_count": null,
      "outputs": []
    },
    {
      "cell_type": "code",
      "source": [
        "!buildozer init"
      ],
      "metadata": {
        "id": "dPxmNIIR8EwC"
      },
      "execution_count": null,
      "outputs": []
    },
    {
      "cell_type": "code",
      "source": [
        "!buildozer -v android debug"
      ],
      "metadata": {
        "id": "uoZpYxb_8E1W"
      },
      "execution_count": null,
      "outputs": []
    }
  ]
}